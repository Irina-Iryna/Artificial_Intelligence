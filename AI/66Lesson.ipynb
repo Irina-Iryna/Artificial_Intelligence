{
 "cells": [
  {
   "cell_type": "code",
   "execution_count": 1,
   "id": "3b527adf-4b3a-4bb6-93e4-908da4642153",
   "metadata": {},
   "outputs": [],
   "source": [
    "import torch\n",
    "from torch.utils.data import DataLoader\n",
    "from torchvision import datasets, transforms\n",
    "\n",
    "import numpy as np\n",
    "import matplotlib.pyplot as plt"
   ]
  },
  {
   "cell_type": "code",
   "execution_count": 2,
   "id": "1a910324-abc8-408b-bd5e-b62b227323d2",
   "metadata": {},
   "outputs": [
    {
     "name": "stdout",
     "output_type": "stream",
     "text": [
      "Image label: tensor([3])\n",
      "Image shape: torch.Size([1, 1, 28, 28])\n"
     ]
    },
    {
     "name": "stderr",
     "output_type": "stream",
     "text": [
      "C:\\Users\\User\\AppData\\Local\\Programs\\Python\\Python39\\lib\\site-packages\\torchvision\\datasets\\mnist.py:498: UserWarning: The given NumPy array is not writeable, and PyTorch does not support non-writeable tensors. This means you can write to the underlying (supposedly non-writeable) NumPy array using the tensor. You may want to copy the array to protect its data or make it writeable before converting it to a tensor. This type of warning will be suppressed for the rest of this program. (Triggered internally at  ..\\torch\\csrc\\utils\\tensor_numpy.cpp:180.)\n",
      "  return torch.from_numpy(parsed.astype(m[2], copy=False)).view(*s)\n"
     ]
    },
    {
     "data": {
      "text/plain": [
       "<matplotlib.image.AxesImage at 0x1c977137c70>"
      ]
     },
     "execution_count": 2,
     "metadata": {},
     "output_type": "execute_result"
    },
    {
     "data": {
      "image/png": "[encoded data removed]",
      "text/plain": [
       "<Figure size 432x288 with 1 Axes>"
      ]
     },
     "metadata": {
      "needs_background": "light"
     },
     "output_type": "display_data"
    }
   ],
   "source": [
    "trainset = datasets.MNIST('Datasets', download=True, train=True, transform=transforms.ToTensor())\n",
    "testset = datasets.MNIST('Datasets', download=True, train=False, transform=transforms.ToTensor())\n",
    "\n",
    "trainloader = DataLoader(trainset, shuffle=True)\n",
    "testloader = DataLoader(testset, shuffle=True)\n",
    "\n",
    "image, label = iter(trainloader).next()\n",
    "print(f\"Image label: {label}\")\n",
    "print(f\"Image shape: {image.shape}\")\n",
    "plt.imshow(image.reshape(28, 28))"
   ]
  },
  {
   "cell_type": "code",
   "execution_count": 3,
   "id": "9156b0d5-e9fc-4441-837e-aa42f6540e24",
   "metadata": {},
   "outputs": [
    {
     "name": "stdout",
     "output_type": "stream",
     "text": [
      "Train setlength: 60000\n",
      "Test setlength: 10000\n",
      "Ravel image size: 784\n"
     ]
    }
   ],
   "source": [
    "print(f\"Train setlength: {len(trainset)}\")\n",
    "print(f\"Test setlength: {len(testset)}\")\n",
    "print(f\"Ravel image size: {28*28}\")"
   ]
  },
  {
   "cell_type": "code",
   "execution_count": 4,
   "id": "a4a5b985-b8d7-4b75-b6fe-de1698a06512",
   "metadata": {},
   "outputs": [
    {
     "name": "stdout",
     "output_type": "stream",
     "text": [
      "The model: MNIST_Logistic_Regression(\n",
      "  (lin): Linear(in_features=784, out_features=10, bias=True)\n",
      ")\n",
      "Parameters: [Parameter containing:\n",
      "tensor([[ 0.0054,  0.0100, -0.0189,  ...,  0.0076,  0.0102,  0.0186],\n",
      "        [ 0.0224,  0.0185,  0.0310,  ...,  0.0124,  0.0020, -0.0093],\n",
      "        [-0.0106,  0.0314,  0.0300,  ...,  0.0074,  0.0268,  0.0276],\n",
      "        ...,\n",
      "        [-0.0122, -0.0184, -0.0128,  ...,  0.0024, -0.0034,  0.0285],\n",
      "        [ 0.0245, -0.0304,  0.0056,  ..., -0.0168, -0.0323,  0.0202],\n",
      "        [-0.0016, -0.0295, -0.0013,  ..., -0.0178,  0.0033,  0.0052]],\n",
      "       requires_grad=True), Parameter containing:\n",
      "tensor([ 0.0125,  0.0105, -0.0106,  0.0039,  0.0321, -0.0027,  0.0326, -0.0250,\n",
      "         0.0041, -0.0239], requires_grad=True)]\n",
      "Output shape: torch.Size([1, 10])\n"
     ]
    }
   ],
   "source": [
    "import torch.nn as nn\n",
    "\n",
    "# nn.Module\n",
    "class MNIST_Logistic_Regression(nn.Module):\n",
    "    def __init__(self):\n",
    "        super().__init__()\n",
    "        self.lin = nn.Linear(784, 10)\n",
    "        \n",
    "    def forward(self, x):\n",
    "        y_hat = self.lin(x)\n",
    "        return y_hat\n",
    "    \n",
    "model = MNIST_Logistic_Regression()\n",
    "x_rand = torch.rand(1, 784)\n",
    "y = model(x_rand)\n",
    "\n",
    "#model = nn.Linear(784, 10)\n",
    "#x_rand = torch.rand(1, 784)\n",
    "#y = model(x_rand)\n",
    "\n",
    "print(f\"The model: {model}\")\n",
    "print(f\"Parameters: {list(model.parameters())}\")\n",
    "print(f\"Output shape: {y.shape}\")"
   ]
  },
  {
   "cell_type": "code",
   "execution_count": 5,
   "id": "0cf5136c-484d-442e-88d1-3c9327650aad",
   "metadata": {},
   "outputs": [
    {
     "name": "stderr",
     "output_type": "stream",
     "text": [
      "100%|███████████████████████████████████████████████████████████████████████████████████| 60000/60000 [01:33<00:00, 642.35it/s]\n"
     ]
    },
    {
     "name": "stdout",
     "output_type": "stream",
     "text": [
      "Train set accuracy: 0.8688\n"
     ]
    },
    {
     "name": "stderr",
     "output_type": "stream",
     "text": [
      "100%|██████████████████████████████████████████████████████████████████████████████████| 10000/10000 [00:06<00:00, 1499.96it/s]"
     ]
    },
    {
     "name": "stdout",
     "output_type": "stream",
     "text": [
      "\n",
      "Test set accuracy: 0.9023\n"
     ]
    },
    {
     "name": "stderr",
     "output_type": "stream",
     "text": [
      "\n"
     ]
    }
   ],
   "source": [
    "# pip install tqdm\n",
    "from tqdm import tqdm\n",
    "\n",
    "model = MNIST_Logistic_Regression()\n",
    "criterion = nn.CrossEntropyLoss()\n",
    "optimizer = torch.optim.SGD(model.parameters(), lr=0.001) #learning rate\n",
    "\n",
    "correct = 0\n",
    "total_train = len(trainset)\n",
    "\n",
    "for image, label in tqdm(trainloader): #TQDM\n",
    "    optimizer.zero_grad() # Очищает значения градиентов параметров\n",
    "    x = image.view(1, -1)\n",
    "    y = model(x) #y.shape = (1, 10)\n",
    "    \n",
    "    predictions = torch.argmax(y, dim=1)\n",
    "    correct += torch.sum((predictions == label).float())\n",
    "    \n",
    "    loss = criterion(y, label)    \n",
    "    loss.backward()\n",
    "    optimizer.step()\n",
    "print(f\"Train set accuracy: {(correct/total_train):.4}\")\n",
    "\n",
    "correct = 0 \n",
    "total_test = len(testset)\n",
    "with torch.no_grad():\n",
    "    for image, label in tqdm(testloader):\n",
    "        x = image.view(-1, 28*28)\n",
    "        y = model(x)\n",
    "        \n",
    "        predictions = torch.argmax(y, dim=1)\n",
    "        correct += torch.sum((predictions == label).float())\n",
    "print(f\"\\nTest set accuracy: {(correct/total_test):.4}\")"
   ]
  },
  {
   "cell_type": "code",
   "execution_count": 6,
   "id": "cd60b0fb-210b-49fa-8bce-6c613960bc3e",
   "metadata": {},
   "outputs": [
    {
     "name": "stderr",
     "output_type": "stream",
     "text": [
      "100%|███████████████████████████████████████████████████████████████████████████████████| 60000/60000 [05:21<00:00, 186.73it/s]\n"
     ]
    },
    {
     "name": "stdout",
     "output_type": "stream",
     "text": [
      "Train set accuracy: 0.8685\n"
     ]
    },
    {
     "name": "stderr",
     "output_type": "stream",
     "text": [
      "100%|██████████████████████████████████████████████████████████████████████████████████| 10000/10000 [00:09<00:00, 1078.00it/s]"
     ]
    },
    {
     "name": "stdout",
     "output_type": "stream",
     "text": [
      "\n",
      "Test set accuracy: 0.8831\n"
     ]
    },
    {
     "name": "stderr",
     "output_type": "stream",
     "text": [
      "\n"
     ]
    }
   ],
   "source": [
    "class MNIST_NN(nn.Module):\n",
    "    def __init__(self):\n",
    "        super().__init__()\n",
    "        self.lin_1 = nn.Linear(784, 256)\n",
    "        self.lin_2 = nn.Linear(256, 64)\n",
    "        self.lin_3 = nn.Linear(64, 10)\n",
    "        \n",
    "    def forward(self, x):\n",
    "        a1 = self.lin_1(x)\n",
    "        a2 = self.lin_2(a1)\n",
    "        y_hat = self.lin_3(a2)\n",
    "        return y_hat\n",
    "    \n",
    "model = MNIST_NN()\n",
    "\n",
    "criterion = nn.CrossEntropyLoss()\n",
    "optimizer = torch.optim.SGD(model.parameters(), lr=0.001, momentum=0.9)\n",
    "\n",
    "correct = 0\n",
    "total_train = len(trainset)\n",
    "\n",
    "for image, label in tqdm(trainloader): #TQDM\n",
    "    optimizer.zero_grad() # Очищает значения градиентов параметров\n",
    "    x = image.view(1, -1)\n",
    "    y = model(x) #y.shape = (1, 10)\n",
    "    \n",
    "    predictions = torch.argmax(y, dim=1)\n",
    "    correct += torch.sum((predictions == label).float())\n",
    "    \n",
    "    loss = criterion(y, label)    \n",
    "    loss.backward()\n",
    "    optimizer.step()\n",
    "print(f\"Train set accuracy: {(correct/total_train):.4}\")\n",
    "\n",
    "correct = 0 \n",
    "total_test = len(testset)\n",
    "with torch.no_grad():\n",
    "    for image, label in tqdm(testloader):\n",
    "        x = image.view(-1, 28*28)\n",
    "        y = model(x)\n",
    "        \n",
    "        predictions = torch.argmax(y, dim=1)\n",
    "        correct += torch.sum((predictions == label).float())\n",
    "print(f\"\\nTest set accuracy: {(correct/total_test):.4}\")"
   ]
  },
  {
   "cell_type": "code",
   "execution_count": null,
   "id": "a7a49297-cdd7-48d4-a59b-774b5d4e4d26",
   "metadata": {},
   "outputs": [],
   "source": []
  }
 ],
 "metadata": {
  "kernelspec": {
   "display_name": "Python 3 (ipykernel)",
   "language": "python",
   "name": "python3"
  },
  "language_info": {
   "codemirror_mode": {
    "name": "ipython",
    "version": 3
   },
   "file_extension": ".py",
   "mimetype": "text/x-python",
   "name": "python",
   "nbconvert_exporter": "python",
   "pygments_lexer": "ipython3",
   "version": "3.9.5"
  }
 },
 "nbformat": 4,
 "nbformat_minor": 5
}
