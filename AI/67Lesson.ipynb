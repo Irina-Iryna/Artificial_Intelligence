{
 "cells": [
  {
   "cell_type": "code",
   "execution_count": 1,
   "id": "aaf72643-9ae8-4c08-9217-29af9eebe06d",
   "metadata": {},
   "outputs": [],
   "source": [
    "#!pip install torchvision\n",
    "# Convolutional neural nets"
   ]
  },
  {
   "cell_type": "code",
   "execution_count": 2,
   "id": "ba6542bd-4b9f-4607-80c1-ffc9e506a15e",
   "metadata": {},
   "outputs": [],
   "source": [
    "import torch\n",
    "import torch.nn as nn\n",
    "import torch.optim as optim\n",
    "from torch.utils.data import DataLoader\n",
    "from torchvision import datasets, transforms\n",
    "\n",
    "import numpy as np\n",
    "import matplotlib.pyplot as plt"
   ]
  },
  {
   "cell_type": "code",
   "execution_count": 3,
   "id": "862db3a1-0f21-47a2-af32-97d661577e2a",
   "metadata": {},
   "outputs": [
    {
     "name": "stderr",
     "output_type": "stream",
     "text": [
      "C:\\Users\\User\\AppData\\Local\\Programs\\Python\\Python39\\lib\\site-packages\\torchvision\\datasets\\mnist.py:498: UserWarning: The given NumPy array is not writeable, and PyTorch does not support non-writeable tensors. This means you can write to the underlying (supposedly non-writeable) NumPy array using the tensor. You may want to copy the array to protect its data or make it writeable before converting it to a tensor. This type of warning will be suppressed for the rest of this program. (Triggered internally at  ..\\torch\\csrc\\utils\\tensor_numpy.cpp:180.)\n",
      "  return torch.from_numpy(parsed.astype(m[2], copy=False)).view(*s)\n"
     ]
    }
   ],
   "source": [
    "trainset = datasets.MNIST('Datasets', download=True, train=True, transform=transforms.ToTensor())\n",
    "testset = datasets.MNIST('Datasets', download=True, train=False, transform=transforms.ToTensor())\n",
    "\n",
    "trainloader = DataLoader(trainset, shuffle=True)\n",
    "testloader = DataLoader(testset, shuffle=True)"
   ]
  },
  {
   "cell_type": "code",
   "execution_count": 8,
   "id": "4530c11d-de8d-4591-a1fd-35a4496df0fe",
   "metadata": {},
   "outputs": [],
   "source": [
    "class LeNet(nn.Module):\n",
    "    def __init__(self):\n",
    "        super().__init__()\n",
    "        self.conv1 = nn.Conv2d(1, 6, 5)\n",
    "        self.sigm1 = nn.Sigmoid()\n",
    "        self.avgp1 = nn.AvgPool2d(2, stride=2)\n",
    "        self.conv2 = nn.Conv2d(6, 16, 5)\n",
    "        self.sigm2 = nn.Sigmoid()\n",
    "        self.avgp2 = nn.AvgPool2d(2, stride=2)\n",
    "        \n",
    "        self.fc1 = nn.Linear(256, 120)\n",
    "        self.sigm3 = nn.Sigmoid()\n",
    "        \n",
    "        self.fc2 = nn.Linear(120, 84)\n",
    "        self.sigm4 = nn.Sigmoid()\n",
    "        \n",
    "        self.fc3 = nn.Linear(84, 10)\n",
    "        self.sigm5 = nn.Sigmoid()\n",
    "        \n",
    "    def forward(self, x):\n",
    "        y = self.conv1(x)\n",
    "        y = self.sigm1(y)\n",
    "        y = self.avgp1(y)\n",
    "        \n",
    "        y = self.conv2(y)\n",
    "        y = self.sigm2(y)\n",
    "        y = self.avgp2(y)\n",
    "        \n",
    "        y = y.reshape(-1) # convert 5x5x16 to 400x1\n",
    "        \n",
    "        y = self.fc1(y)\n",
    "        y = self.sigm3(y)\n",
    "        \n",
    "        y = self.fc2(y)\n",
    "        y = self.sigm4(y)\n",
    "        \n",
    "        y = self.fc3(y)\n",
    "        y = self.sigm5(y)\n",
    "        return y"
   ]
  },
  {
   "cell_type": "code",
   "execution_count": 9,
   "id": "95055f94-5a3d-4053-9a36-94bb86f59915",
   "metadata": {},
   "outputs": [
    {
     "name": "stderr",
     "output_type": "stream",
     "text": [
      "100%|███████████████████████████████████████████████████████████████████████████████████| 60000/60000 [03:50<00:00, 260.38it/s]\n"
     ]
    },
    {
     "name": "stdout",
     "output_type": "stream",
     "text": [
      "End of train\n",
      "Begin test set estimation\n"
     ]
    },
    {
     "name": "stderr",
     "output_type": "stream",
     "text": [
      "100%|███████████████████████████████████████████████████████████████████████████████████| 10000/10000 [00:11<00:00, 883.70it/s]"
     ]
    },
    {
     "name": "stdout",
     "output_type": "stream",
     "text": [
      "\n",
      "Test set accuracy: 0.1135\n"
     ]
    },
    {
     "name": "stderr",
     "output_type": "stream",
     "text": [
      "\n"
     ]
    }
   ],
   "source": [
    "from tqdm import tqdm\n",
    "\n",
    "model = LeNet()\n",
    "optimizer = optim.SGD(model.parameters(), lr=0.001, momentum=0.9)\n",
    "criterion = nn.CrossEntropyLoss()\n",
    "\n",
    "for train_x, train_y in tqdm(trainloader):\n",
    "    optimizer.zero_grad()\n",
    "        \n",
    "    predict_y = model(train_x.float())\n",
    "    predict_y = predict_y.reshape(1, -1)\n",
    "    \n",
    "    loss = criterion(predict_y, train_y)\n",
    "    loss.backward()\n",
    "    optimizer.step()\n",
    "print(\"End of train\")\n",
    "\n",
    " \n",
    "print(\"Begin test set estimation\")\n",
    "correct = 0 \n",
    "total_test = len(testset)\n",
    "with torch.no_grad():\n",
    "    for image, label in tqdm(testloader):\n",
    "        y = model(image)\n",
    "        y = y.reshape(1, -1)\n",
    "        predictions = torch.argmax(y, dim=1)\n",
    "        correct += torch.sum((predictions == label).float())\n",
    "print(f\"\\nTest set accuracy: {(correct/total_test):.4}\")    "
   ]
  },
  {
   "cell_type": "code",
   "execution_count": null,
   "id": "aa90e528-042f-4895-85e2-270f1faa74f3",
   "metadata": {},
   "outputs": [],
   "source": []
  }
 ],
 "metadata": {
  "kernelspec": {
   "display_name": "Python 3 (ipykernel)",
   "language": "python",
   "name": "python3"
  },
  "language_info": {
   "codemirror_mode": {
    "name": "ipython",
    "version": 3
   },
   "file_extension": ".py",
   "mimetype": "text/x-python",
   "name": "python",
   "nbconvert_exporter": "python",
   "pygments_lexer": "ipython3",
   "version": "3.9.5"
  }
 },
 "nbformat": 4,
 "nbformat_minor": 5
}
