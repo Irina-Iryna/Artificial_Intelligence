{
 "cells": [
  {
   "cell_type": "code",
   "execution_count": 1,
   "id": "6e42d6bb-4118-47eb-a2c9-bd14e7dfdc7a",
   "metadata": {},
   "outputs": [],
   "source": [
    "import pandas as pd\n",
    "import numpy as np\n",
    "import matplotlib.pyplot as plt\n",
    "from sklearn.metrics import confusion_matrix"
   ]
  },
  {
   "cell_type": "code",
   "execution_count": 2,
   "id": "cca6f2c2-74d2-40f2-bb14-d20358e2342a",
   "metadata": {},
   "outputs": [
    {
     "data": {
      "text/html": [
       "<div>\n",
       "<style scoped>\n",
       "    .dataframe tbody tr th:only-of-type {\n",
       "        vertical-align: middle;\n",
       "    }\n",
       "\n",
       "    .dataframe tbody tr th {\n",
       "        vertical-align: top;\n",
       "    }\n",
       "\n",
       "    .dataframe thead th {\n",
       "        text-align: right;\n",
       "    }\n",
       "</style>\n",
       "<table border=\"1\" class=\"dataframe\">\n",
       "  <thead>\n",
       "    <tr style=\"text-align: right;\">\n",
       "      <th></th>\n",
       "      <th>User ID</th>\n",
       "      <th>Gender</th>\n",
       "      <th>Age</th>\n",
       "      <th>EstimatedSalary</th>\n",
       "      <th>Purchased</th>\n",
       "    </tr>\n",
       "  </thead>\n",
       "  <tbody>\n",
       "    <tr>\n",
       "      <th>145</th>\n",
       "      <td>15746422</td>\n",
       "      <td>Female</td>\n",
       "      <td>24</td>\n",
       "      <td>89000</td>\n",
       "      <td>0</td>\n",
       "    </tr>\n",
       "    <tr>\n",
       "      <th>143</th>\n",
       "      <td>15783029</td>\n",
       "      <td>Male</td>\n",
       "      <td>30</td>\n",
       "      <td>89000</td>\n",
       "      <td>0</td>\n",
       "    </tr>\n",
       "    <tr>\n",
       "      <th>45</th>\n",
       "      <td>15639277</td>\n",
       "      <td>Male</td>\n",
       "      <td>23</td>\n",
       "      <td>20000</td>\n",
       "      <td>0</td>\n",
       "    </tr>\n",
       "    <tr>\n",
       "      <th>238</th>\n",
       "      <td>15617877</td>\n",
       "      <td>Female</td>\n",
       "      <td>46</td>\n",
       "      <td>82000</td>\n",
       "      <td>0</td>\n",
       "    </tr>\n",
       "    <tr>\n",
       "      <th>287</th>\n",
       "      <td>15761950</td>\n",
       "      <td>Female</td>\n",
       "      <td>48</td>\n",
       "      <td>138000</td>\n",
       "      <td>1</td>\n",
       "    </tr>\n",
       "  </tbody>\n",
       "</table>\n",
       "</div>"
      ],
      "text/plain": [
       "      User ID  Gender  Age  EstimatedSalary  Purchased\n",
       "145  15746422  Female   24            89000          0\n",
       "143  15783029    Male   30            89000          0\n",
       "45   15639277    Male   23            20000          0\n",
       "238  15617877  Female   46            82000          0\n",
       "287  15761950  Female   48           138000          1"
      ]
     },
     "execution_count": 2,
     "metadata": {},
     "output_type": "execute_result"
    }
   ],
   "source": [
    "df = pd.read_csv('Social_Network_Ads.csv')\n",
    "df.sample(5)"
   ]
  },
  {
   "cell_type": "code",
   "execution_count": 3,
   "id": "d0408e26-ecec-4ae4-bf25-94c2cc9c566b",
   "metadata": {},
   "outputs": [],
   "source": [
    "X = df[['Age', 'EstimatedSalary']]\n",
    "Y = df['Purchased']"
   ]
  },
  {
   "cell_type": "code",
   "execution_count": 4,
   "id": "1c1f2c0e-674b-4bfa-9bb7-d31dcbf8bed3",
   "metadata": {},
   "outputs": [],
   "source": [
    "from sklearn.model_selection import train_test_split\n",
    "X_train, X_test, Y_train, Y_test = train_test_split(X, Y, test_size=0.25, random_state=0)"
   ]
  },
  {
   "cell_type": "code",
   "execution_count": 5,
   "id": "ca9d7c30-290a-4517-96bf-a92204bbb767",
   "metadata": {},
   "outputs": [
    {
     "data": {
      "text/plain": [
       "array([[ 0.58164944, -0.88670699],\n",
       "       [-0.60673761,  1.46173768],\n",
       "       [-0.01254409, -0.5677824 ],\n",
       "       [-0.60673761,  1.89663484],\n",
       "       [ 1.37390747, -1.40858358]])"
      ]
     },
     "execution_count": 5,
     "metadata": {},
     "output_type": "execute_result"
    }
   ],
   "source": [
    "from sklearn.preprocessing import StandardScaler\n",
    "scaler = StandardScaler()\n",
    "X_train = scaler.fit_transform(X_train)\n",
    "X_test = scaler.transform(X_test)\n",
    "X_train[:5]"
   ]
  },
  {
   "cell_type": "code",
   "execution_count": 6,
   "id": "283551dd-550a-4068-9747-8ec889277005",
   "metadata": {},
   "outputs": [
    {
     "name": "stdout",
     "output_type": "stream",
     "text": [
      "Model accuracy is: 89.00%\n",
      "Model P and R is: 0.9558823529411765 0.8904109589041096\n",
      "Model F1 score is: 0.9219858156028369\n"
     ]
    }
   ],
   "source": [
    "def accuracy(Y_true, Y_pred):\n",
    "    true_sum = np.sum(Y_true == Y_pred)\n",
    "    n = len(Y_true)\n",
    "    return true_sum / n\n",
    "\n",
    "def get_precision_and_recall(Y_test, Y_pred):\n",
    "    cm = confusion_matrix(Y_test, Y_pred)\n",
    "    precision = cm[0][0] / (cm[0][0] + cm[0][1])\n",
    "    recall = cm[0][0] / (cm[0][0] + cm[1][0])\n",
    "    return precision, recall\n",
    "\n",
    "def get_f1_score(Y_test, Y_pred):\n",
    "    p, r = get_precision_and_recall(Y_test, Y_pred)\n",
    "    F1 = 2 * (p*r)/(p+r)\n",
    "    return F1\n",
    "\n",
    "from sklearn.linear_model import LogisticRegression\n",
    "model = LogisticRegression(random_state=42)\n",
    "model.fit(X_train, Y_train)\n",
    "Y_pred = model.predict(X_test)\n",
    "acc = accuracy(Y_test, Y_pred)\n",
    "print(f\"Model accuracy is: {acc*100:.2f}%\")\n",
    "pre, rec = get_precision_and_recall(Y_test, Y_pred)\n",
    "print(f\"Model P and R is: {pre} {rec}\")\n",
    "F1_score = get_f1_score(Y_test, Y_pred)\n",
    "print(f\"Model F1 score is: {F1_score}\")"
   ]
  },
  {
   "cell_type": "code",
   "execution_count": 7,
   "id": "a7bb1f81-c4ef-476d-a491-4b1163529b6b",
   "metadata": {},
   "outputs": [
    {
     "data": {
      "text/plain": [
       "0    257\n",
       "1    143\n",
       "Name: Purchased, dtype: int64"
      ]
     },
     "execution_count": 7,
     "metadata": {},
     "output_type": "execute_result"
    }
   ],
   "source": [
    "Y.value_counts()"
   ]
  },
  {
   "cell_type": "code",
   "execution_count": 8,
   "id": "95b38e70-1829-49c6-a01d-618458ef42ca",
   "metadata": {},
   "outputs": [
    {
     "data": {
      "text/plain": [
       "0    64.25\n",
       "1    35.75\n",
       "Name: Purchased, dtype: float64"
      ]
     },
     "execution_count": 8,
     "metadata": {},
     "output_type": "execute_result"
    }
   ],
   "source": [
    "classes_counts = Y.value_counts()\n",
    "classes_counts / np.sum(classes_counts) * 100"
   ]
  },
  {
   "cell_type": "code",
   "execution_count": 9,
   "id": "7846049e-f9cb-4892-a3f4-05093840d23e",
   "metadata": {},
   "outputs": [
    {
     "name": "stdout",
     "output_type": "stream",
     "text": [
      "(100,) (400, 2)\n",
      "Model accuracy is: 68.00%\n",
      "Model P and R is: 1.0 0.68\n",
      "Model F1 score is: 0.9219858156028369\n"
     ]
    }
   ],
   "source": [
    "def dump_model(x_vector):\n",
    "    return False\n",
    "\n",
    "Y_pred_1 = np.array([dump_model(x) for x in X_test])\n",
    "print(Y_pred_1.shape, X.shape)\n",
    "acc = accuracy(Y_test, Y_pred_1)\n",
    "pre, rec = get_precision_and_recall(Y_test, Y_pred_1)\n",
    "F1_score = get_f1_score(Y_test, Y_pred)\n",
    "print(f\"Model accuracy is: {acc*100:.2f}%\")\n",
    "print(f\"Model P and R is: {pre} {rec}\")\n",
    "print(f\"Model F1 score is: {F1_score}\")"
   ]
  },
  {
   "cell_type": "code",
   "execution_count": 10,
   "id": "5fed67ca-f09a-41cd-841e-ec016fa5e4cd",
   "metadata": {},
   "outputs": [
    {
     "name": "stderr",
     "output_type": "stream",
     "text": [
      "*c* argument looks like a single numeric RGB or RGBA sequence, which should be avoided as value-mapping will have precedence in case its length matches with *x* & *y*.  Please use the *color* keyword-argument or provide a 2D array with a single row if you intend to specify the same RGB or RGBA value for all points.\n",
      "*c* argument looks like a single numeric RGB or RGBA sequence, which should be avoided as value-mapping will have precedence in case its length matches with *x* & *y*.  Please use the *color* keyword-argument or provide a 2D array with a single row if you intend to specify the same RGB or RGBA value for all points.\n"
     ]
    },
    {
     "data": {
      "image/png": "[encoded data removed]",
      "text/plain": [
       "<Figure size 720x576 with 1 Axes>"
      ]
     },
     "metadata": {
      "needs_background": "light"
     },
     "output_type": "display_data"
    }
   ],
   "source": [
    "from matplotlib.colors import ListedColormap\n",
    "\n",
    "plt.figure(figsize=(10, 8))\n",
    "X_set, Y_set = X_train, Y_train\n",
    "\n",
    "X1, X2, = np.meshgrid(\n",
    "    np.arange(start=X_set[:, 0].min() - 1, stop = X_set[:, 0].max()+1, step=0.01),\n",
    "    np.arange(start=X_set[:, 1].min() - 1, stop = X_set[:, 1].max()+1, step=0.01)\n",
    ")\n",
    "\n",
    "plt.contourf(X1, X2, model.predict(np.array([X1.ravel(), X2.ravel()]).T).reshape(X1.shape),\n",
    "            alpha=0.65, cmap=ListedColormap(('red', 'green'))\n",
    ")\n",
    "plt.xlim(X1.min(), X1.max())\n",
    "plt.ylim(X2.min(), X2.max())\n",
    "\n",
    "for i, j in enumerate(np.unique(Y_set)):\n",
    "    plt.scatter(X_set[Y_set == j, 0], \n",
    "                X_set[Y_set== j, 1],\n",
    "                c = ListedColormap(('red', 'green'))(i),\n",
    "                label=j)\n",
    "    \n",
    "plt.xlabel(\"Age\")\n",
    "plt.ylabel(\"EstimatedSalary\")\n",
    "plt.legend()\n",
    "plt.show()"
   ]
  },
  {
   "cell_type": "code",
   "execution_count": 11,
   "id": "f9fc2018-38dc-42b8-8079-284f059bfc30",
   "metadata": {},
   "outputs": [
    {
     "name": "stderr",
     "output_type": "stream",
     "text": [
      "*c* argument looks like a single numeric RGB or RGBA sequence, which should be avoided as value-mapping will have precedence in case its length matches with *x* & *y*.  Please use the *color* keyword-argument or provide a 2D array with a single row if you intend to specify the same RGB or RGBA value for all points.\n",
      "*c* argument looks like a single numeric RGB or RGBA sequence, which should be avoided as value-mapping will have precedence in case its length matches with *x* & *y*.  Please use the *color* keyword-argument or provide a 2D array with a single row if you intend to specify the same RGB or RGBA value for all points.\n"
     ]
    },
    {
     "data": {
      "image/png": "[encoded data removed]",
      "text/plain": [
       "<Figure size 720x576 with 1 Axes>"
      ]
     },
     "metadata": {
      "needs_background": "light"
     },
     "output_type": "display_data"
    }
   ],
   "source": [
    "from matplotlib.colors import ListedColormap\n",
    "\n",
    "plt.figure(figsize=(10, 8))\n",
    "X_set, Y_set = X_test, Y_test\n",
    "\n",
    "X1, X2 = np.meshgrid(\n",
    "    np.arange(start=X_set[:, 0].min() - 1, stop = X_set[:, 0].max()+1, step=0.01),\n",
    "    np.arange(start=X_set[:, 1].min() - 1, stop = X_set[:, 1].max()+1, step=0.01)\n",
    ")\n",
    "plt.contourf(\n",
    "    X1, X2, model.predict(\n",
    "        np.array([X1.ravel(), X2.ravel()]).T\n",
    "    ).reshape(X1.shape), \n",
    "    alpha=0.35, cmap=ListedColormap(('red', 'green'))\n",
    ")\n",
    "plt.xlim(X1.min(), X1.max())\n",
    "plt.ylim(X2.min(), X2.max())\n",
    "\n",
    "for i, j in enumerate(np.unique(Y_set)):\n",
    "    plt.scatter(X_set[Y_set == j, 0], \n",
    "                X_set[Y_set == j, 1],\n",
    "                c = ListedColormap((\"red\", \"green\"))(i), \n",
    "                label=j)\n",
    "\n",
    "plt.xlabel(\"Age\")\n",
    "plt.ylabel(\"Estimated Salary\")\n",
    "plt.legend()\n",
    "plt.show()"
   ]
  }
 ],
 "metadata": {
  "kernelspec": {
   "display_name": "Python 3 (ipykernel)",
   "language": "python",
   "name": "python3"
  },
  "language_info": {
   "codemirror_mode": {
    "name": "ipython",
    "version": 3
   },
   "file_extension": ".py",
   "mimetype": "text/x-python",
   "name": "python",
   "nbconvert_exporter": "python",
   "pygments_lexer": "ipython3",
   "version": "3.9.5"
  }
 },
 "nbformat": 4,
 "nbformat_minor": 5
}
