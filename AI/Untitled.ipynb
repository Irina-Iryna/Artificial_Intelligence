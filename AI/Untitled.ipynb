{
 "cells": [
  {
   "cell_type": "code",
   "execution_count": 1,
   "id": "92d69a05-4a04-49c7-bd19-ea68cbbfba32",
   "metadata": {},
   "outputs": [],
   "source": [
    "#!pip install torch"
   ]
  },
  {
   "cell_type": "code",
   "execution_count": 2,
   "id": "1f5c4c62-ff5c-4ad1-9376-a6d25f3c4958",
   "metadata": {},
   "outputs": [],
   "source": [
    "import torch\n",
    "from torch.utils.data import DataLoader\n",
    "from torchvision import datasets, transforms\n",
    "import numpy as np"
   ]
  },
  {
   "cell_type": "code",
   "execution_count": 3,
   "id": "66bf2c1d-f89e-45dc-97b3-36ff9bf7dcf9",
   "metadata": {},
   "outputs": [
    {
     "data": {
      "text/plain": [
       "tensor([[1, 2, 3, 4]])"
      ]
     },
     "execution_count": 3,
     "metadata": {},
     "output_type": "execute_result"
    }
   ],
   "source": [
    "torch.tensor([[1, 2, 3, 4]])"
   ]
  },
  {
   "cell_type": "code",
   "execution_count": 4,
   "id": "1b1a921f-671e-4a61-8979-0d5d02960984",
   "metadata": {},
   "outputs": [
    {
     "data": {
      "text/plain": [
       "tensor([[1, 2],\n",
       "        [3, 4]])"
      ]
     },
     "execution_count": 4,
     "metadata": {},
     "output_type": "execute_result"
    }
   ],
   "source": [
    "torch.tensor([[1, 2], [3, 4]])"
   ]
  },
  {
   "cell_type": "code",
   "execution_count": 5,
   "id": "5aab763f-c134-4ec8-929d-a5c2fd0ac606",
   "metadata": {},
   "outputs": [],
   "source": [
    "#torch.tensor([[1, 2], [3, 4]], )"
   ]
  },
  {
   "cell_type": "code",
   "execution_count": 6,
   "id": "4a169526-e466-4959-9f71-d5865072cace",
   "metadata": {},
   "outputs": [
    {
     "name": "stdout",
     "output_type": "stream",
     "text": [
      "tensor(1)\n",
      "tensor(1., dtype=torch.float64)\n",
      "tensor([1, 2, 3])\n",
      "tensor([[4, 3],\n",
      "        [2, 1]], dtype=torch.int32)\n",
      "tensor([[54.5981, 20.0855],\n",
      "        [ 7.3891,  2.7183]])\n",
      "tensor([[1.3863, 1.0986],\n",
      "        [0.6931, 0.0000]])\n",
      "tensor([1.0000, 1.4142, 1.7321])\n",
      "torch.Size([3])\n",
      "(2, 2)\n",
      "torch.Size([2, 2])\n"
     ]
    }
   ],
   "source": [
    "tensor_number = torch.tensor(1)\n",
    "print(tensor_number)\n",
    "\n",
    "tensor_float = torch.tensor(1.0, dtype=torch.float64)\n",
    "print(tensor_float)\n",
    "\n",
    "tensor_1d = torch.tensor([1, 2, 3])\n",
    "print(tensor_1d)\n",
    "\n",
    "np_array = np.array([[4, 3], [2, 1]])\n",
    "tensor_from_np = torch.tensor(np_array)\n",
    "print(tensor_from_np)\n",
    "\n",
    "print(torch.exp(tensor_from_np))\n",
    "print(torch.log(tensor_from_np))\n",
    "print(torch.sqrt(tensor_1d))\n",
    "print(tensor_1d.shape)\n",
    "print(np_array.shape)\n",
    "print(tensor_from_np.shape)"
   ]
  },
  {
   "cell_type": "code",
   "execution_count": 7,
   "id": "8b81517a-8b05-482f-8c76-2e6dc192cf2e",
   "metadata": {},
   "outputs": [
    {
     "name": "stdout",
     "output_type": "stream",
     "text": [
      "tensor(4.) tensor(4.) tensor(0.6667)\n"
     ]
    }
   ],
   "source": [
    "x = torch.tensor(1.0, requires_grad=True)\n",
    "y = torch.tensor(2.0, requires_grad=True)\n",
    "z = torch.tensor(3.0, requires_grad=True)\n",
    "\n",
    "f = 4 * y * torch.sqrt(x) + 2 * torch.log(z)\n",
    "f.backward()\n",
    "print(x.grad, y.grad, z.grad)"
   ]
  },
  {
   "cell_type": "code",
   "execution_count": 8,
   "id": "128f66d4-5a45-4bb2-99c2-7906d9fa316d",
   "metadata": {},
   "outputs": [
    {
     "name": "stdout",
     "output_type": "stream",
     "text": [
      "tensor(-4.) tensor(-4.) tensor(3.)\n"
     ]
    }
   ],
   "source": [
    "x = torch.tensor(-2.0, requires_grad=True)\n",
    "y = torch.tensor(5.0, requires_grad=True)\n",
    "z = torch.tensor(-4.0, requires_grad=True)\n",
    "\n",
    "f = (x + y) * z\n",
    "f.backward()\n",
    "print(x.grad, y.grad, z.grad)"
   ]
  },
  {
   "cell_type": "code",
   "execution_count": 9,
   "id": "b72042ca-d3ef-452e-abc0-62a45063dba3",
   "metadata": {},
   "outputs": [
    {
     "name": "stderr",
     "output_type": "stream",
     "text": [
      "C:\\Users\\User\\AppData\\Local\\Programs\\Python\\Python39\\lib\\site-packages\\torchvision\\datasets\\mnist.py:498: UserWarning: The given NumPy array is not writeable, and PyTorch does not support non-writeable tensors. This means you can write to the underlying (supposedly non-writeable) NumPy array using the tensor. You may want to copy the array to protect its data or make it writeable before converting it to a tensor. This type of warning will be suppressed for the rest of this program. (Triggered internally at  ..\\torch\\csrc\\utils\\tensor_numpy.cpp:180.)\n",
      "  return torch.from_numpy(parsed.astype(m[2], copy=False)).view(*s)\n"
     ]
    }
   ],
   "source": [
    "trainset = datasets.MNIST('Datasets', download=True, train=True, transform=transforms.ToTensor())\n",
    "testset = datasets.MNIST('Datasets', download=True, train=False, transform=transforms.ToTensor())\n",
    "\n",
    "trainloader = DataLoader(trainset, shuffle=True)\n",
    "testloader = DataLoader(testset, shuffle=True)"
   ]
  },
  {
   "cell_type": "code",
   "execution_count": 10,
   "id": "14e23ea3-0dfa-4369-acb7-e822164adf29",
   "metadata": {},
   "outputs": [
    {
     "name": "stdout",
     "output_type": "stream",
     "text": [
      "Predicted:  tensor([[0.7293]], grad_fn=<SigmoidBackward>) \n",
      "True tensor([1.]) \n",
      "\n",
      "Predicted:  tensor([[0.7236]], grad_fn=<SigmoidBackward>) \n",
      "True tensor([1.]) \n",
      "\n",
      "Predicted:  tensor([[0.7341]], grad_fn=<SigmoidBackward>) \n",
      "True tensor([0.]) \n",
      "\n",
      "Predicted:  tensor([[0.7275]], grad_fn=<SigmoidBackward>) \n",
      "True tensor([0.]) \n",
      "\n"
     ]
    }
   ],
   "source": [
    "import torch.nn as nn\n",
    "\n",
    "class SimpleNN():\n",
    "    def __init__(self):\n",
    "        self.W_1 = torch.rand(2, 4, requires_grad=True)\n",
    "        self.b_1 = torch.rand(1, 4, requires_grad=True)\n",
    "\n",
    "        self.W_2 = torch.rand(4, 1, requires_grad=True)\n",
    "        self.b_2 = torch.rand(1, 1, requires_grad=True)\n",
    "        \n",
    "        self.loss = nn.BCELoss()\n",
    "        \n",
    "    def train(self, Xs, Ys):\n",
    "        for idx, X in enumerate(Xs):\n",
    "            Y_hat = self.predict(X).view(-1)\n",
    "            Y = Ys[idx]\n",
    "            \n",
    "            pred = self.loss(Y_hat, Y)\n",
    "            pred.backward()\n",
    "\n",
    "            #print(\"Loss: \", pred)\n",
    "        #print(\"End of train\")\n",
    "            \n",
    "    def predict(self, X):\n",
    "        Z_1 = torch.matmul(X, self.W_1) + self.b_1\n",
    "        A_1 = torch.sigmoid(Z_1)\n",
    "        \n",
    "        Z_2 = torch.matmul(A_1, self.W_2) + self.b_2\n",
    "        A_2 = torch.sigmoid(Z_2)\n",
    "        return A_2\n",
    "\n",
    "Xs = torch.tensor([\n",
    "    [3, 2],\n",
    "    [4, -1],\n",
    "    [2, 5],\n",
    "    [6, -2]\n",
    "], dtype=torch.float32)\n",
    "\n",
    "Ys = torch.tensor([[1, 1, 0, 0]], dtype=torch.float32)\n",
    "Ys = Ys.reshape(-1, 1) \n",
    "\n",
    "nn = SimpleNN()\n",
    "\n",
    "for i in range(1, 5+1):\n",
    "    #print(f\"Epoc {i}\")\n",
    "    nn.train(Xs, Ys)\n",
    "    \n",
    "for idx, X in enumerate(Xs):\n",
    "    print(\"Predicted: \", nn.predict(X), \"\\nTrue\", Ys[idx], \"\\n\")\n",
    "\n",
    "\n",
    "#pred = nn.predict(Xs[0, :])\n",
    "#print(pred)\n",
    "#Xs.shape"
   ]
  },
  {
   "cell_type": "code",
   "execution_count": null,
   "id": "03f31d81-6524-4d3a-8bc6-f3c0c892a776",
   "metadata": {},
   "outputs": [],
   "source": []
  }
 ],
 "metadata": {
  "kernelspec": {
   "display_name": "Python 3 (ipykernel)",
   "language": "python",
   "name": "python3"
  },
  "language_info": {
   "codemirror_mode": {
    "name": "ipython",
    "version": 3
   },
   "file_extension": ".py",
   "mimetype": "text/x-python",
   "name": "python",
   "nbconvert_exporter": "python",
   "pygments_lexer": "ipython3",
   "version": "3.9.5"
  }
 },
 "nbformat": 4,
 "nbformat_minor": 5
}
